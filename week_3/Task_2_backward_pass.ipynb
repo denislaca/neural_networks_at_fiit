{
  "cells": [
    {
      "cell_type": "markdown",
      "source": "# Task 2\n\nImplement basic backward pass in MLP. Perform forward and backward propagation through your network and check your gradients.\nThis time, the forward pass is implemented for you. Notice the matrix notation - the dimensions are in form $[m,nX,1]$, where $m$ is batch size (number of samples) and $nX$ is the size of sample vector.",
      "metadata": {
        "cell_id": "00000-a52b8b38-8de1-48ae-af49-56868cea4bbd",
        "deepnote_cell_type": "markdown"
      }
    },
    {
      "cell_type": "code",
      "metadata": {
        "cell_id": "00001-06170395-9010-4284-ad76-cd41fa70bce6",
        "deepnote_to_be_reexecuted": false,
        "source_hash": "fa935c01",
        "execution_millis": 0,
        "execution_start": 1615294586546,
        "deepnote_cell_type": "code"
      },
      "source": "# Import\nimport numpy as np",
      "execution_count": 1,
      "outputs": []
    },
    {
      "cell_type": "markdown",
      "source": "## Activations\n\nImplement derivations of standard activation functions (ReLU, Sigmoid), which are used in your task.",
      "metadata": {
        "cell_id": "00002-23573767-da5f-4504-9353-e637e7969f53",
        "deepnote_cell_type": "markdown"
      }
    },
    {
      "cell_type": "code",
      "metadata": {
        "cell_id": "00003-2ff9a244-d75f-453a-b6dc-e978920bd54a",
        "deepnote_to_be_reexecuted": false,
        "source_hash": "e1aa1c32",
        "execution_millis": 1,
        "execution_start": 1615294819468,
        "deepnote_cell_type": "code"
      },
      "source": "#------------------------------------------------------------------------------\n#   ActivationFunction class\n#------------------------------------------------------------------------------\nclass ActivationFunction:\n    def __init__(self):\n        pass\n\n    def __call__(self, z):\n        pass\n\n#------------------------------------------------------------------------------\n#   LinearActivationFunction class\n#------------------------------------------------------------------------------\nclass LinearActivationFunction(ActivationFunction):\n    def __call__(self, z):\n        return z\n\n    def derivation(self, z):\n        ###>>> start of solution\n        return np.ones_like(z)\n        ###<<< end of solution\n        pass\n\n#------------------------------------------------------------------------------\n#   RELUActivationFunction class\n#------------------------------------------------------------------------------\nclass RELUActivationFunction(ActivationFunction):\n    def __call__(self, z):\n        return np.maximum(z, 0)\n\n    def derivation(self, z):\n        ###>>> start of solution\n        return np.where(z > 0, 1., 0.)\n        ###<<< end of solution\n        pass\n\n#------------------------------------------------------------------------------\n#   SigmoidActivationFunction class\n#------------------------------------------------------------------------------\nclass SigmoidActivationFunction(ActivationFunction):\n    def __call__(self, z):\n        return self.sigmoid(z)\n\n    def sigmoid(self, x):\n        return 1.0/(1.0+np.exp(-x))\n\n    def derivation(self, z):\n        ###>>> start of solution\n        return self.sigmoid(z) * (1 - self.sigmoid(z))\n        ###<<< end of solution\n        pass\n    \n# Activation mapping\n    \nMAP_ACTIVATION_FUCTIONS = {\n    \"linear\": LinearActivationFunction,\n    \"relu\": RELUActivationFunction,\n    \"sigmoid\": SigmoidActivationFunction\n}\n\ndef CreateActivationFunction(kind):\n    if (kind in MAP_ACTIVATION_FUCTIONS):\n        return MAP_ACTIVATION_FUCTIONS[kind]()\n    raise ValueError(kind, \"Unknown activation function {0}\".format(kind))",
      "execution_count": 3,
      "outputs": []
    },
    {
      "cell_type": "markdown",
      "source": "## Layer\n\nThis is the main class which can hold different types of layers and provides us with standard tasks like forward propagation. Implement backward functions for defined classes.\n\nnUnits - number of neuron units in your layer\n\nprevLayer - previous layer (need it to know the shape of it to create appropriate number of weights for you to use in current layer)",
      "metadata": {
        "cell_id": "00004-4fbcf184-b4cb-4ba9-a4de-b0cee961e471",
        "deepnote_cell_type": "markdown"
      }
    },
    {
      "cell_type": "markdown",
      "source": "## Loss Functions\n\nImplement two standard loss functions (Binary Cross Entropy and Mean Squared Error), which you will/can use in your implementation of MLP backward pass.",
      "metadata": {
        "cell_id": "00006-10eabb24-9432-4334-9932-db88115b89a6",
        "deepnote_cell_type": "markdown"
      }
    },
    {
      "cell_type": "code",
      "metadata": {
        "cell_id": "00007-6b15e0bc-aae6-4ef7-bcd4-cb278a1ecac7",
        "deepnote_to_be_reexecuted": false,
        "source_hash": "7fac5ef6",
        "execution_millis": 0,
        "execution_start": 1615294892031,
        "deepnote_cell_type": "code"
      },
      "source": "#------------------------------------------------------------------------------\n#   LossFunction class\n#------------------------------------------------------------------------------\nclass LossFunction:\n    def __init__(self):\n        pass\n\n    def __call__(self, A, Y):\n        pass\n\n    def derivation(self, A, Y):\n        pass\n\n\n#------------------------------------------------------------------------------\n#   BinaryCrossEntropyLossFunction class\n#------------------------------------------------------------------------------\nclass BinaryCrossEntropyLossFunction(LossFunction):\n    def __call__(self, A, Y):\n        # Warning! Use of logarithm - Take care about definition scope\n        ###>>> start of solution\n        return -( np.multiply(Y, np.log(A + np.finfo(float).eps)) + np.multiply((1-Y), np.log((1-A) + np.finfo(float).eps)))\n        ###<<< end of solution\n        pass\n    \n    def derivation(self, A, Y):\n        # Warning! Use of logarithm - Take care about definition scope\n        ###>>> start of solution\n        return -np.divide(Y, A + np.finfo(float).eps) + np.divide((1-Y), ((1-A) + np.finfo(float).eps))\n        ###<<< end of solution\n        pass\n    \nclass MeanSquaredErrorLossFunction(LossFunction):\n    def __call__(self, A, Y):\n        ###>>> start of solution\n        return np.square(np.subtract(Y, A))\n        ###<<< end of solution\n        pass\n\n    def derivation(self, A, Y):\n        ###>>> start of solution\n        return 2 * (A - Y)\n        ###<<< end of solution\n        pass\n\n\nMAP_LOSS_FUNCTIONS = {\n    \"bce\": BinaryCrossEntropyLossFunction,\n    \"mse\": MeanSquaredErrorLossFunction\n}\n\ndef CreateLossFunction(kind):\n    if (kind in MAP_LOSS_FUNCTIONS):\n        return MAP_LOSS_FUNCTIONS[kind]()\n    raise ValueError(kind, \"Unknown loss function {0}\".format(kind))",
      "execution_count": 17,
      "outputs": []
    },
    {
      "cell_type": "code",
      "metadata": {
        "collapsed": true,
        "jupyter": {
          "outputs_hidden": true
        },
        "cell_id": "00005-8d6d2a92-1d4e-451f-aae3-a294168d2608",
        "deepnote_to_be_reexecuted": false,
        "source_hash": "8b93bb46",
        "execution_millis": 1,
        "execution_start": 1615294821476,
        "deepnote_cell_type": "code"
      },
      "source": "#------------------------------------------------------------------------------\n#   Layer class\n#------------------------------------------------------------------------------\nclass Layer:\n    def __init__(self, act=\"linear\", name=\"layer\"):\n        self.shape = (0, 0)\n        self.activation = CreateActivationFunction(act)\n        self.name = name\n\n    def initialize(self, prevLayer):\n        pass\n\n    def forward(self, x):\n        pass\n\n#------------------------------------------------------------------------------\n#   InputLayer class\n#------------------------------------------------------------------------------\nclass InputLayer(Layer):\n    def __init__(self, nUnits, name=\"Input\"):\n        super().__init__(act=\"linear\", name=name)\n        self.nUnits = nUnits\n\n    def initialize(self, prevLayer):\n        self.shape = (self.nUnits, 1)\n\n    def forward(self, x):\n        self.a = x\n        return x\n\n    def backward(self, X, *args):\n        return None\n    \n#------------------------------------------------------------------------------\n#   Basic Dense Layer class\n#------------------------------------------------------------------------------\nclass DenseLayer(Layer):\n    def __init__(self, nUnits, act=\"linear\", name=\"Dense\"):\n        super().__init__(act, name=name)\n        # init each neuron into list        \n        self.nUnits = nUnits\n        self.W = None\n        self.b = None\n        self.dW = 0\n        self.db = 0\n\n    def initialize(self, prevLayer):\n        #initialize all neurons\n        self.shape = (self.nUnits, prevLayer.shape[0])\n\n        # Initialize weights and bias\n        prev_nUnits, _ = prevLayer.shape\n        self.W = np.random.randn(self.nUnits, prev_nUnits)\n        self.b = np.zeros((self.nUnits, 1), dtype=float)\n\n    def forward(self, X):\n        # print(\"Forward of\", self.name)\n        self.z = np.matmul(self.W, X) + self.b         # Z = W*x + b\n        self.a = self.activation(self.z)               # a = activation(Z)\n        return self.a\n\n    def backward(self, da, aPrev):\n        #   da  =   dLoss -> dL/da of previous layer - with respect to backward pass\n        #   aPrev   =   activation of previous layer needed for weights - with respect to forward pass\n        batch_size = aPrev.shape[0]\n        # print(\"Backward of\", self.name)\n        ###>>> start of solution\n        self.dz = np.multiply(da, self.activation.derivation(self.z))\n\n        l = []\n        for i in range(batch_size):\n            l.append(np.matmul(self.dz[i], aPrev[i].T))\n\n        self.dW = np.mean(np.array(l), axis=0)\n        self.db = (1/batch_size) * np.sum(self.dz, axis=1, keepdims=True)\n        self.da_l = np.matmul(self.W.T, self.dz)\n\n        # print({\n        #     \"aPrev\": aPrev.shape,\n        #     \"z\": self.z.shape,\n        #     \"dZ\": self.dz.shape,\n        #     \"W\": self.W.shape,\n        #     \"dW\": self.dW.shape,\n        #     \"dB\": self.db.shape,\n        #     \"daPrev\": self.da_l.shape,\n        # })\n        return self.da_l\n        ###<<< end of solution",
      "execution_count": 5,
      "outputs": []
    },
    {
      "cell_type": "markdown",
      "source": "## Model class\n\nThis is the basic class which holds all of your layers and encapsulate functionality to predict results from your input as a forward pass through all the layers after you create your model and initialize all the layers.\n\nImplemet backpropagation.",
      "metadata": {
        "cell_id": "00008-29252b07-6247-427f-9ee5-f7cb59a53f06",
        "deepnote_cell_type": "markdown"
      }
    },
    {
      "cell_type": "code",
      "metadata": {
        "collapsed": true,
        "jupyter": {
          "outputs_hidden": true
        },
        "cell_id": "00009-d3a14d63-02ed-4f62-83fa-30cba666e4d8",
        "deepnote_to_be_reexecuted": false,
        "source_hash": "6ca889e5",
        "execution_millis": 1,
        "execution_start": 1615294822832,
        "deepnote_cell_type": "code"
      },
      "source": "#------------------------------------------------------------------------------\n#   Model class\n#------------------------------------------------------------------------------\nclass Model:\n    def __init__(self, lossName):\n        self.layers = []\n        # Initialize loss function\n        self.loss_fn = CreateLossFunction(lossName)\n        \n    def addLayer(self,  layer):\n        self.layers.append(layer)\n\n    def initialize(self):\n        # Call initialization sequentially on all layers\n        prevLayer = None\n        for l in self.layers:\n            l.initialize(prevLayer)\n            prevLayer = l      \n    \n    def forward(self, X):\n        # Single feed forward\n        A = X\n        for l in self.layers:\n            A = l.forward(A)\n            \n        return A\n    \n    def backward(self, dLoss):\n        ###>>> start of solution\n        da = dLoss\n        for i in range(len(self.layers)-1, 0, -1):\n            da = self.layers[i].backward(da, self.layers[i-1].a)\n        # for layer, prev in zip(list(reversed(self.layers))[1:], list(reversed(self.layers))[:-1]):\n        #     da = prev.backward(da, layer.a)\n        ###<<< end of solution\n        pass\n    \n    def compute_cost(self, A, Y):\n        batch_size = Y.shape[0]\n        \n        ###>>> start of solution\n        return np.sum(self.loss_fn(A, Y)) * (1/batch_size)\n        ###<<< end of solution\n        \n        pass\n    \n    def derive_loss(self, A, Y):\n        ###>>> start of solution\n        return self.loss_fn.derivation(A, Y)\n        ###<<< end of solution\n        \n        pass",
      "execution_count": 6,
      "outputs": []
    },
    {
      "cell_type": "markdown",
      "source": "### Main Processing Cell\n\n 1. Initialize dataset. \n 2. Declare a simple model (at least 4 layer) with relu on hidden layers and sigmoid on output layer.\n 3. Perform forward pass through the network. \n 4. Compute loss.\n 5. Derive loss.\n 6. Perform backward pass.\n 7. Celebrate and scroll lower.",
      "metadata": {
        "cell_id": "00010-60a782f9-bb47-4e67-8b04-94a0f5dbe3a4",
        "deepnote_cell_type": "markdown"
      }
    },
    {
      "cell_type": "code",
      "metadata": {
        "cell_id": "00011-97a1b7d0-6355-4ba4-b69e-e06a71cf3dfe",
        "deepnote_to_be_reexecuted": false,
        "source_hash": "a222d2a2",
        "execution_millis": 2465,
        "execution_start": 1615295136334,
        "deepnote_cell_type": "code"
      },
      "source": "# Main processing\nfrom dataset import dataset_Circles\n# Task A:\n\nX, Y = dataset_Circles(n=16, radius=0.7, noise=0.0)\n###>>> start of solution\nprint(\"MSE NETS\")\nfor _ in range(100):\n    m = Model(\"mse\")\n    m.addLayer(InputLayer(2))\n    m.addLayer(DenseLayer(12, act=\"relu\"))\n    m.addLayer(DenseLayer(6, act=\"relu\"))\n    m.addLayer(DenseLayer(3, act=\"relu\"))\n    m.addLayer(DenseLayer(1, act=\"sigmoid\"))\n    m.initialize()\n\n    A = m.forward(X)\n    loss = m.compute_cost(A, Y)\n    dLoss = m.derive_loss(A, Y)\n\n    m.backward(dLoss)\n\n    gradient_check_n(m, X, Y)\n\nprint(\"BCE NETS\")\nfor _ in range(100):\n    m = Model(\"bce\")\n    m.addLayer(InputLayer(2))\n    m.addLayer(DenseLayer(12, act=\"relu\"))\n    m.addLayer(DenseLayer(6, act=\"relu\"))\n    m.addLayer(DenseLayer(3, act=\"relu\"))\n    m.addLayer(DenseLayer(1, act=\"sigmoid\"))\n    m.initialize()\n\n    A = m.forward(X)\n    loss = m.compute_cost(A, Y)\n    dLoss = m.derive_loss(A, Y)\n\n    m.backward(dLoss)\n\n    gradient_check_n(m, X, Y)\n# ###<<< end of solution",
      "execution_count": 29,
      "outputs": [
        {
          "name": "stdout",
          "text": "MSE NETS\n\u001b[92mYour backward propagation works perfectly fine! difference = 3.000079669008048e-09\u001b[0m\n\u001b[92mYour backward propagation works perfectly fine! difference = 1.357433687643113e-08\u001b[0m\n\u001b[92mYour backward propagation works perfectly fine! difference = 4.183634348295882e-09\u001b[0m\n\u001b[92mYour backward propagation works perfectly fine! difference = 3.260936895820168e-09\u001b[0m\n\u001b[92mYour backward propagation works perfectly fine! difference = 2.1879631043140167e-09\u001b[0m\n\u001b[92mYour backward propagation works perfectly fine! difference = 8.752505940186704e-09\u001b[0m\n\u001b[92mYour backward propagation works perfectly fine! difference = 5.308567763046386e-09\u001b[0m\n\u001b[92mYour backward propagation works perfectly fine! difference = 3.0456740789646076e-09\u001b[0m\n\u001b[92mYour backward propagation works perfectly fine! difference = 3.1471052404436742e-09\u001b[0m\n\u001b[92mYour backward propagation works perfectly fine! difference = 4.623690327223031e-09\u001b[0m\n\u001b[92mYour backward propagation works perfectly fine! difference = 2.79936997528645e-09\u001b[0m\n\u001b[92mYour backward propagation works perfectly fine! difference = 3.2647431158118256e-09\u001b[0m\n\u001b[92mYour backward propagation works perfectly fine! difference = 8.549098217992734e-09\u001b[0m\n\u001b[92mYour backward propagation works perfectly fine! difference = 3.8901939284638145e-09\u001b[0m\n\u001b[92mYour backward propagation works perfectly fine! difference = 5.1103611291879365e-09\u001b[0m\n\u001b[92mYour backward propagation works perfectly fine! difference = 9.623209277654981e-09\u001b[0m\n\u001b[92mYour backward propagation works perfectly fine! difference = 7.41927235254267e-09\u001b[0m\n\u001b[92mYour backward propagation works perfectly fine! difference = 2.9615697306409024e-09\u001b[0m\n\u001b[92mYour backward propagation works perfectly fine! difference = 1.0039707639138527e-08\u001b[0m\n\u001b[92mYour backward propagation works perfectly fine! difference = 4.278548327812947e-09\u001b[0m\n\u001b[92mYour backward propagation works perfectly fine! difference = 1.5068875014499783e-09\u001b[0m\n\u001b[92mYour backward propagation works perfectly fine! difference = 3.156084777068111e-09\u001b[0m\n\u001b[92mYour backward propagation works perfectly fine! difference = 8.401729663536922e-09\u001b[0m\n\u001b[92mYour backward propagation works perfectly fine! difference = 2.594632333108163e-09\u001b[0m\n\u001b[92mYour backward propagation works perfectly fine! difference = 3.5667768643894857e-09\u001b[0m\n\u001b[92mYour backward propagation works perfectly fine! difference = 7.666246031100479e-09\u001b[0m\n\u001b[92mYour backward propagation works perfectly fine! difference = 4.052304083625457e-09\u001b[0m\n\u001b[92mYour backward propagation works perfectly fine! difference = 5.885573371433679e-09\u001b[0m\n\u001b[92mYour backward propagation works perfectly fine! difference = 4.343622385434336e-09\u001b[0m\n\u001b[92mYour backward propagation works perfectly fine! difference = 6.814752384382063e-09\u001b[0m\n\u001b[92mYour backward propagation works perfectly fine! difference = 4.512947496170732e-09\u001b[0m\n\u001b[92mYour backward propagation works perfectly fine! difference = 5.024044420447191e-09\u001b[0m\n\u001b[92mYour backward propagation works perfectly fine! difference = 8.209682843610178e-09\u001b[0m\n\u001b[92mYour backward propagation works perfectly fine! difference = 2.9449840712507836e-09\u001b[0m\n\u001b[92mYour backward propagation works perfectly fine! difference = 5.576245788331994e-09\u001b[0m\n\u001b[92mYour backward propagation works perfectly fine! difference = 3.5682598591730113e-09\u001b[0m\n\u001b[92mYour backward propagation works perfectly fine! difference = 1.0613872415435522e-08\u001b[0m\n\u001b[92mYour backward propagation works perfectly fine! difference = 5.172009586852531e-09\u001b[0m\n\u001b[92mYour backward propagation works perfectly fine! difference = 5.178026161657294e-09\u001b[0m\n\u001b[92mYour backward propagation works perfectly fine! difference = 1.1460032644002379e-08\u001b[0m\n\u001b[92mYour backward propagation works perfectly fine! difference = 4.651606905670821e-09\u001b[0m\n\u001b[92mYour backward propagation works perfectly fine! difference = 4.984538715595231e-09\u001b[0m\n\u001b[92mYour backward propagation works perfectly fine! difference = 7.566139110711533e-09\u001b[0m\n\u001b[92mYour backward propagation works perfectly fine! difference = 6.413619884314575e-09\u001b[0m\n\u001b[92mYour backward propagation works perfectly fine! difference = 9.138414815857761e-10\u001b[0m\n\u001b[92mYour backward propagation works perfectly fine! difference = 3.4902218582921355e-09\u001b[0m\n\u001b[92mYour backward propagation works perfectly fine! difference = 4.1908443070379456e-09\u001b[0m\n\u001b[92mYour backward propagation works perfectly fine! difference = 7.277015818749565e-09\u001b[0m\n\u001b[92mYour backward propagation works perfectly fine! difference = 4.027634701066972e-09\u001b[0m\n\u001b[92mYour backward propagation works perfectly fine! difference = 4.458838975291371e-09\u001b[0m\n\u001b[92mYour backward propagation works perfectly fine! difference = 3.76500534047598e-09\u001b[0m\n\u001b[92mYour backward propagation works perfectly fine! difference = 7.834355051020753e-09\u001b[0m\n\u001b[92mYour backward propagation works perfectly fine! difference = 3.830139974934384e-09\u001b[0m\n\u001b[92mYour backward propagation works perfectly fine! difference = 4.195656583546722e-09\u001b[0m\n\u001b[92mYour backward propagation works perfectly fine! difference = 4.785148929096139e-09\u001b[0m\n\u001b[92mYour backward propagation works perfectly fine! difference = 2.343820718982092e-09\u001b[0m\n\u001b[92mYour backward propagation works perfectly fine! difference = 9.100100566903259e-09\u001b[0m\n\u001b[92mYour backward propagation works perfectly fine! difference = 6.541589379426741e-09\u001b[0m\n\u001b[92mYour backward propagation works perfectly fine! difference = 5.2704725919192076e-09\u001b[0m\n\u001b[92mYour backward propagation works perfectly fine! difference = 3.1181859877194652e-09\u001b[0m\n\u001b[92mYour backward propagation works perfectly fine! difference = 4.433919937610714e-09\u001b[0m\n\u001b[92mYour backward propagation works perfectly fine! difference = 9.99634973394897e-09\u001b[0m\n\u001b[92mYour backward propagation works perfectly fine! difference = 4.777335513929021e-09\u001b[0m\n\u001b[92mYour backward propagation works perfectly fine! difference = 3.950957641460148e-09\u001b[0m\n\u001b[92mYour backward propagation works perfectly fine! difference = 3.4082697125298575e-09\u001b[0m\n\u001b[92mYour backward propagation works perfectly fine! difference = 1.7515903082426977e-09\u001b[0m\n\u001b[92mYour backward propagation works perfectly fine! difference = 4.000584441163432e-09\u001b[0m\n\u001b[92mYour backward propagation works perfectly fine! difference = 2.628741315271462e-09\u001b[0m\n\u001b[92mYour backward propagation works perfectly fine! difference = 9.227703795780236e-09\u001b[0m\n\u001b[92mYour backward propagation works perfectly fine! difference = 3.939754485434169e-09\u001b[0m\n\u001b[92mYour backward propagation works perfectly fine! difference = 5.953914134766655e-09\u001b[0m\n\u001b[92mYour backward propagation works perfectly fine! difference = 5.6549091928253266e-09\u001b[0m\n\u001b[92mYour backward propagation works perfectly fine! difference = 2.6205711430656206e-09\u001b[0m\n\u001b[92mYour backward propagation works perfectly fine! difference = 3.2166423127582945e-09\u001b[0m\n\u001b[92mYour backward propagation works perfectly fine! difference = 8.689490515976886e-09\u001b[0m\n\u001b[92mYour backward propagation works perfectly fine! difference = 4.732505926761417e-09\u001b[0m\n\u001b[92mYour backward propagation works perfectly fine! difference = 6.5217767426825895e-09\u001b[0m\n\u001b[92mYour backward propagation works perfectly fine! difference = 1.591410790529506e-08\u001b[0m\n\u001b[92mYour backward propagation works perfectly fine! difference = 3.4287008666608488e-09\u001b[0m\n\u001b[92mYour backward propagation works perfectly fine! difference = 9.912652827933462e-09\u001b[0m\n\u001b[92mYour backward propagation works perfectly fine! difference = 4.4894681568238505e-09\u001b[0m\n\u001b[92mYour backward propagation works perfectly fine! difference = 1.1074772449667057e-08\u001b[0m\n\u001b[92mYour backward propagation works perfectly fine! difference = 5.3397357061641204e-09\u001b[0m\n\u001b[92mYour backward propagation works perfectly fine! difference = 5.251844850582383e-09\u001b[0m\n\u001b[92mYour backward propagation works perfectly fine! difference = 7.276651632998587e-09\u001b[0m\n\u001b[92mYour backward propagation works perfectly fine! difference = 3.770376517094858e-09\u001b[0m\n\u001b[92mYour backward propagation works perfectly fine! difference = 1.359783757738178e-08\u001b[0m\n\u001b[92mYour backward propagation works perfectly fine! difference = 6.197609118260762e-08\u001b[0m\n\u001b[92mYour backward propagation works perfectly fine! difference = 5.0829366760586746e-09\u001b[0m\n\u001b[92mYour backward propagation works perfectly fine! difference = 3.6793589667070595e-09\u001b[0m\n\u001b[92mYour backward propagation works perfectly fine! difference = 7.588268799641585e-09\u001b[0m\n\u001b[92mYour backward propagation works perfectly fine! difference = 3.348343264659512e-09\u001b[0m\n\u001b[92mYour backward propagation works perfectly fine! difference = 2.341971357552851e-09\u001b[0m\n\u001b[92mYour backward propagation works perfectly fine! difference = 3.1864446759390178e-09\u001b[0m\n\u001b[92mYour backward propagation works perfectly fine! difference = 4.152607824117565e-09\u001b[0m\n\u001b[92mYour backward propagation works perfectly fine! difference = 2.254050090110697e-09\u001b[0m\n\u001b[92mYour backward propagation works perfectly fine! difference = 8.408051783484689e-09\u001b[0m\n\u001b[92mYour backward propagation works perfectly fine! difference = 4.387265219239808e-09\u001b[0m\n\u001b[92mYour backward propagation works perfectly fine! difference = 3.948627842610985e-09\u001b[0m\n\u001b[92mYour backward propagation works perfectly fine! difference = 3.515635109690411e-09\u001b[0m\nBCE NETS\n\u001b[92mYour backward propagation works perfectly fine! difference = 7.534670775284682e-09\u001b[0m\n\u001b[92mYour backward propagation works perfectly fine! difference = 6.1101148818947055e-09\u001b[0m\n\u001b[92mYour backward propagation works perfectly fine! difference = 2.1088283800574575e-09\u001b[0m\n\u001b[92mYour backward propagation works perfectly fine! difference = 4.618792033451704e-09\u001b[0m\n\u001b[92mYour backward propagation works perfectly fine! difference = 6.341571421565812e-09\u001b[0m\n\u001b[91mThere is a mistake in the backward propagation! difference = 2.4809035800700287e-07\u001b[0m\n\u001b[92mYour backward propagation works perfectly fine! difference = 2.4075394828130654e-09\u001b[0m\n\u001b[92mYour backward propagation works perfectly fine! difference = 2.4117293637604627e-09\u001b[0m\n\u001b[92mYour backward propagation works perfectly fine! difference = 1.4294742015064848e-09\u001b[0m\n\u001b[92mYour backward propagation works perfectly fine! difference = 5.45765758631053e-09\u001b[0m\n\u001b[92mYour backward propagation works perfectly fine! difference = 2.0294049217915004e-09\u001b[0m\n\u001b[92mYour backward propagation works perfectly fine! difference = 9.809265027978215e-09\u001b[0m\n\u001b[92mYour backward propagation works perfectly fine! difference = 4.683664597316726e-09\u001b[0m\n\u001b[92mYour backward propagation works perfectly fine! difference = 1.5631546994979538e-08\u001b[0m\n\u001b[92mYour backward propagation works perfectly fine! difference = 2.172007786867731e-09\u001b[0m\n\u001b[92mYour backward propagation works perfectly fine! difference = 2.6691352917310874e-08\u001b[0m\n\u001b[92mYour backward propagation works perfectly fine! difference = 1.798856386311536e-09\u001b[0m\n\u001b[92mYour backward propagation works perfectly fine! difference = 1.929698792973084e-09\u001b[0m\n\u001b[92mYour backward propagation works perfectly fine! difference = 3.2365121409245485e-09\u001b[0m\n\u001b[91mThere is a mistake in the backward propagation! difference = 1.0598880228258935e-06\u001b[0m\n\u001b[92mYour backward propagation works perfectly fine! difference = 2.1672366877656536e-09\u001b[0m\n\u001b[91mThere is a mistake in the backward propagation! difference = 2.13680552580248e-07\u001b[0m\n\u001b[92mYour backward propagation works perfectly fine! difference = 3.186025665893484e-09\u001b[0m\n\u001b[92mYour backward propagation works perfectly fine! difference = 1.5970026200488327e-09\u001b[0m\n\u001b[92mYour backward propagation works perfectly fine! difference = 1.0150580545016836e-09\u001b[0m\n\u001b[92mYour backward propagation works perfectly fine! difference = 1.453516043291754e-09\u001b[0m\n\u001b[92mYour backward propagation works perfectly fine! difference = 7.791213990330848e-08\u001b[0m\n\u001b[91mThere is a mistake in the backward propagation! difference = 0.19770545392485445\u001b[0m\n\u001b[92mYour backward propagation works perfectly fine! difference = 6.692631168573741e-09\u001b[0m\n\u001b[92mYour backward propagation works perfectly fine! difference = 2.851961386347838e-09\u001b[0m\n\u001b[92mYour backward propagation works perfectly fine! difference = 3.245647438065522e-09\u001b[0m\n\u001b[92mYour backward propagation works perfectly fine! difference = 2.3767118772586083e-09\u001b[0m\n\u001b[92mYour backward propagation works perfectly fine! difference = 7.382634070586243e-08\u001b[0m\n\u001b[92mYour backward propagation works perfectly fine! difference = 1.434608678189635e-08\u001b[0m\n\u001b[92mYour backward propagation works perfectly fine! difference = 4.058869698443875e-09\u001b[0m\n\u001b[92mYour backward propagation works perfectly fine! difference = 2.2726772350402434e-09\u001b[0m\n\u001b[92mYour backward propagation works perfectly fine! difference = 2.7847850202782607e-09\u001b[0m\n\u001b[92mYour backward propagation works perfectly fine! difference = 2.536519428902825e-09\u001b[0m\n\u001b[92mYour backward propagation works perfectly fine! difference = 2.8684859127313873e-09\u001b[0m\n\u001b[92mYour backward propagation works perfectly fine! difference = 1.7183137134245096e-09\u001b[0m\n\u001b[92mYour backward propagation works perfectly fine! difference = 2.142959034843504e-09\u001b[0m\n\u001b[92mYour backward propagation works perfectly fine! difference = 1.7654526150245953e-09\u001b[0m\n\u001b[92mYour backward propagation works perfectly fine! difference = 2.3539309022650234e-09\u001b[0m\n\u001b[92mYour backward propagation works perfectly fine! difference = 8.927910700781935e-10\u001b[0m\n\u001b[92mYour backward propagation works perfectly fine! difference = 1.3480085626772825e-09\u001b[0m\n\u001b[92mYour backward propagation works perfectly fine! difference = 6.4790663898986856e-09\u001b[0m\n\u001b[92mYour backward propagation works perfectly fine! difference = 1.0903855039954538e-09\u001b[0m\n\u001b[92mYour backward propagation works perfectly fine! difference = 2.9798337769903463e-09\u001b[0m\n\u001b[92mYour backward propagation works perfectly fine! difference = 8.693963486877367e-09\u001b[0m\n\u001b[92mYour backward propagation works perfectly fine! difference = 3.782020442963927e-09\u001b[0m\n\u001b[92mYour backward propagation works perfectly fine! difference = 4.357683100693437e-09\u001b[0m\n\u001b[92mYour backward propagation works perfectly fine! difference = 6.596520154227561e-09\u001b[0m\n\u001b[92mYour backward propagation works perfectly fine! difference = 8.270646604995248e-08\u001b[0m\n\u001b[92mYour backward propagation works perfectly fine! difference = 3.300293219102694e-09\u001b[0m\n\u001b[92mYour backward propagation works perfectly fine! difference = 1.7306706676204841e-09\u001b[0m\n\u001b[92mYour backward propagation works perfectly fine! difference = 1.2147550434793308e-09\u001b[0m\n\u001b[92mYour backward propagation works perfectly fine! difference = 1.7420242335334004e-09\u001b[0m\n\u001b[92mYour backward propagation works perfectly fine! difference = 8.181930742148567e-09\u001b[0m\n\u001b[92mYour backward propagation works perfectly fine! difference = 3.2045577707170284e-09\u001b[0m\n\u001b[92mYour backward propagation works perfectly fine! difference = 1.3642871877012914e-08\u001b[0m\n\u001b[92mYour backward propagation works perfectly fine! difference = 1.2798571369308949e-09\u001b[0m\n\u001b[92mYour backward propagation works perfectly fine! difference = 4.43757010163142e-09\u001b[0m\n\u001b[92mYour backward propagation works perfectly fine! difference = 1.3867369491196157e-09\u001b[0m\n\u001b[92mYour backward propagation works perfectly fine! difference = 9.924185194735636e-10\u001b[0m\n\u001b[92mYour backward propagation works perfectly fine! difference = 6.958740872382262e-09\u001b[0m\n\u001b[92mYour backward propagation works perfectly fine! difference = 2.1853588862758395e-08\u001b[0m\n\u001b[92mYour backward propagation works perfectly fine! difference = 1.98922610755116e-09\u001b[0m\n\u001b[92mYour backward propagation works perfectly fine! difference = 5.274527307020155e-09\u001b[0m\n\u001b[92mYour backward propagation works perfectly fine! difference = 1.8979995555634056e-09\u001b[0m\n\u001b[92mYour backward propagation works perfectly fine! difference = 1.160346304657293e-09\u001b[0m\n\u001b[92mYour backward propagation works perfectly fine! difference = 2.2637360309279835e-09\u001b[0m\n\u001b[92mYour backward propagation works perfectly fine! difference = 2.5376214610261883e-09\u001b[0m\n\u001b[92mYour backward propagation works perfectly fine! difference = 1.8012729832331022e-09\u001b[0m\n\u001b[92mYour backward propagation works perfectly fine! difference = 2.0981142054744e-09\u001b[0m\n\u001b[92mYour backward propagation works perfectly fine! difference = 1.2490041077992739e-08\u001b[0m\n\u001b[92mYour backward propagation works perfectly fine! difference = 2.963845983548294e-09\u001b[0m\n\u001b[92mYour backward propagation works perfectly fine! difference = 4.9171799730773954e-08\u001b[0m\n\u001b[92mYour backward propagation works perfectly fine! difference = 1.5493043843860089e-09\u001b[0m\n\u001b[92mYour backward propagation works perfectly fine! difference = 1.5923833836295413e-09\u001b[0m\n\u001b[92mYour backward propagation works perfectly fine! difference = 8.746017909026688e-10\u001b[0m\n\u001b[92mYour backward propagation works perfectly fine! difference = 1.8507905323417815e-09\u001b[0m\n\u001b[92mYour backward propagation works perfectly fine! difference = 1.5163217538530029e-09\u001b[0m\n\u001b[92mYour backward propagation works perfectly fine! difference = 6.8964967448721185e-09\u001b[0m\n\u001b[92mYour backward propagation works perfectly fine! difference = 4.147744234876091e-09\u001b[0m\n\u001b[92mYour backward propagation works perfectly fine! difference = 2.224494239001489e-09\u001b[0m\n\u001b[92mYour backward propagation works perfectly fine! difference = 2.6660536039005845e-09\u001b[0m\n\u001b[92mYour backward propagation works perfectly fine! difference = 3.6753069168380104e-09\u001b[0m\n\u001b[92mYour backward propagation works perfectly fine! difference = 2.1459059871958092e-08\u001b[0m\n\u001b[92mYour backward propagation works perfectly fine! difference = 2.5429787838257415e-09\u001b[0m\n\u001b[92mYour backward propagation works perfectly fine! difference = 7.231847833415142e-09\u001b[0m\n\u001b[92mYour backward propagation works perfectly fine! difference = 3.0758640107763066e-09\u001b[0m\n\u001b[92mYour backward propagation works perfectly fine! difference = 2.1774486999224545e-09\u001b[0m\n\u001b[92mYour backward propagation works perfectly fine! difference = 1.5698787086950064e-09\u001b[0m\n\u001b[92mYour backward propagation works perfectly fine! difference = 2.115354801893137e-09\u001b[0m\n\u001b[92mYour backward propagation works perfectly fine! difference = 1.7925041659354323e-09\u001b[0m\n\u001b[92mYour backward propagation works perfectly fine! difference = 1.7588676248081406e-09\u001b[0m\n\u001b[92mYour backward propagation works perfectly fine! difference = 4.185400055494515e-09\u001b[0m\n\u001b[92mYour backward propagation works perfectly fine! difference = 1.7372680279222458e-09\u001b[0m\n\u001b[92mYour backward propagation works perfectly fine! difference = 4.085122841804555e-09\u001b[0m\n\u001b[92mYour backward propagation works perfectly fine! difference = 1.7103260291558973e-09\u001b[0m\n",
          "output_type": "stream"
        }
      ]
    },
    {
      "cell_type": "markdown",
      "source": "**How does gradient checking work?**.\n\nAs in 1) and 2), you want to compare \"gradapprox\" to the gradient computed by backpropagation. The formula is still:\n\n$$ \\frac{\\partial J}{\\partial \\theta} = \\lim_{\\varepsilon \\to 0} \\frac{J(\\theta + \\varepsilon) - J(\\theta - \\varepsilon)}{2 \\varepsilon} \\tag{1}$$\n\nHowever, $\\theta$ is not a scalar anymore. It is a dictionary called \"parameters\". We implemented a function \"`dictionary_to_vector()`\" for you. It converts the \"parameters\" dictionary into a vector called \"values\", obtained by reshaping all parameters (W1, b1, W2, b2, W3, b3) into vectors and concatenating them.\n\nThe inverse function is \"`vector_to_dictionary`\" which outputs back the \"parameters\" dictionary.\n\n\nWe have also converted the \"gradients\" dictionary into a vector \"grad\" using gradients_to_vector(). You don't need to worry about that.\n\n\nHere is pseudo-code that will help you implement the gradient check.\n\nFor each i in num_parameters:\n- To compute `J_plus[i]`:\n    1. Set $\\theta^{+}$ to `np.copy(parameters_values)`\n    2. Set $\\theta^{+}_i$ to $\\theta^{+}_i + \\varepsilon$\n    3. Calculate $J^{+}_i$ using to `forward_propagation_n(x, y, vector_to_dictionary(`$\\theta^{+}$ `))`.     \n- To compute `J_minus[i]`: do the same thing with $\\theta^{-}$\n- Compute $gradapprox[i] = \\frac{J^{+}_i - J^{-}_i}{2 \\varepsilon}$\n\nThus, you get a vector gradapprox, where gradapprox[i] is an approximation of the gradient with respect to `parameter_values[i]`. You can now compare this gradapprox vector to the gradients vector from backpropagation. Just like for the 1D case (Steps 1', 2', 3'), compute: \n$$ difference = \\frac {\\| grad - gradapprox \\|_2}{\\| grad \\|_2 + \\| gradapprox \\|_2 } \\tag{3}$$\n\n\n**The code will be added later** but soon enough ;)",
      "metadata": {
        "pycharm": {
          "name": "#%% md\n"
        },
        "cell_id": "00012-131459c8-a273-4183-b99d-32a45be7c23b",
        "deepnote_cell_type": "markdown"
      }
    },
    {
      "cell_type": "code",
      "metadata": {
        "cell_id": "00013-26a24b4e-7313-4c9a-9a06-3096d579d0a3",
        "deepnote_to_be_reexecuted": false,
        "source_hash": "d0dbc50",
        "execution_millis": 1,
        "execution_start": 1615228816485,
        "deepnote_cell_type": "code"
      },
      "source": "# GRADED FUNCTION: gradient_check_n\n",
      "execution_count": null,
      "outputs": []
    },
    {
      "cell_type": "markdown",
      "source": "## Verification cell\n\n 8. Verify your solution by gradient checking.\n 9. Start crying.\n 10. Repeat until correct ;)",
      "metadata": {
        "collapsed": false,
        "cell_id": "00014-4e216988-01c7-4945-b3bf-186c685e1798",
        "deepnote_cell_type": "markdown"
      }
    },
    {
      "cell_type": "code",
      "metadata": {
        "collapsed": false,
        "pycharm": {
          "name": "#%%\n"
        },
        "cell_id": "00015-f19aeed2-95fe-41cd-985b-1987c306510f",
        "deepnote_to_be_reexecuted": false,
        "source_hash": "961dec90",
        "execution_millis": 0,
        "execution_start": 1615294828857,
        "deepnote_cell_type": "code"
      },
      "source": "def gradient_check_n(network, X, Y, epsilon = 1e-7, limit=1):\n    \"\"\"\n    Checks if backward_propagation_n computes correctly the gradient of the cost output by forward_propagation_n\n\n    Arguments:\n    parameters -- python dictionary containing your parameters \"W1\", \"b1\", \"W2\", \"b2\", \"W3\", \"b3\":\n    grad -- output of backward_propagation_n, contains gradients of the cost with respect to the parameters.\n    x -- input datapoint, of shape (input size, 1)\n    y -- true \"label\"\n    epsilon -- tiny shift to the input to compute approximated gradient with formula(1)\n\n    Returns:\n    difference -- difference (2) between the approximated gradient and the backward propagation gradient\n    \"\"\"\n\n    # Set-up variables\n    gradapprox = []\n    grad_backward = []\n\n    for i,layer in enumerate(network.layers):\n        # Compute gradapprox\n        if i <limit:\n            continue\n        shape = layer.W.shape\n        # print(shape[0], ',', shape[1])\n        for i in range(shape[0]):\n            for j in range(shape[1]):\n                # print('i',i,'j',j)\n                # Compute J_plus[i]. Inputs: \"parameters_values, epsilon\". Output = \"J_plus[i]\".\n                # \"_\" is used because the function you have to outputs two parameters but we only care about the first one\n                origin_W = layer.W[i][j]\n\n                layer.W[i][j] = origin_W + epsilon\n                A_plus = network.forward(X)\n                J_plus = network.compute_cost(A_plus, Y)\n\n                # Compute J_minus[i]. Inputs: \"parameters_values, epsilon\". Output = \"J_minus[i]\".\n                layer.W[i][j] = origin_W - epsilon\n                A_minus = network.forward(X)\n                J_minus = network.compute_cost(A_minus, Y)\n\n                # Compute gradapprox[i]\n                gradapprox.append((J_plus - J_minus) / (2*epsilon))\n                # print(layer.name, layer.dW.shape)\n                # grad = np.mean(layer.dW, axis=0, keepdims=True)\n                # grad_backward.append(grad[0][i][j])\n                grad_backward.append(layer.dW[i][j])\n                layer.W[i][j] = origin_W\n\n\n    # Compare gradapprox to backward propagation gradients by computing difference.\n\n    gradapprox = np.reshape(gradapprox, (-1, 1))\n    grad_backward = np.reshape(grad_backward, (-1, 1))\n\n    numerator = np.linalg.norm(grad_backward - gradapprox)\n    denominator = np.linalg.norm(grad_backward) + np.linalg.norm(gradapprox)\n    difference = numerator / denominator\n\n    if difference > 2e-7:\n        print (\"\\033[91m\" + \"There is a mistake in the backward propagation! difference = \" + str(difference) + \"\\033[0m\")\n    else:\n        print (\"\\033[92m\" + \"Your backward propagation works perfectly fine! difference = \" + str(difference) + \"\\033[0m\")",
      "execution_count": 8,
      "outputs": []
    },
    {
      "cell_type": "code",
      "metadata": {
        "tags": [],
        "cell_id": "00016-9edd108e-f292-49fc-ba43-d80a78b70ad6",
        "deepnote_cell_type": "code"
      },
      "source": "",
      "execution_count": null,
      "outputs": []
    },
    {
      "cell_type": "markdown",
      "source": "<a style='text-decoration:none;line-height:16px;display:flex;color:#5B5B62;padding:10px;justify-content:end;' href='https://deepnote.com?utm_source=created-in-deepnote-cell&projectId=151ec30a-9db5-4600-8a2d-358dada1a208' target=\"_blank\">\n<img style='display:inline;max-height:16px;margin:0px;margin-right:7.5px;' src='data:image/svg+xml;base64,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' > </img>\nCreated in <span style='font-weight:600;margin-left:4px;'>Deepnote</span></a>",
      "metadata": {
        "tags": [],
        "created_in_deepnote_cell": true,
        "deepnote_cell_type": "markdown"
      }
    }
  ],
  "nbformat": 4,
  "nbformat_minor": 4,
  "metadata": {
    "kernelspec": {
      "display_name": "Python 3",
      "language": "python",
      "name": "python3"
    },
    "language_info": {
      "codemirror_mode": {
        "name": "ipython",
        "version": 3
      },
      "file_extension": ".py",
      "mimetype": "text/x-python",
      "name": "python",
      "nbconvert_exporter": "python",
      "pygments_lexer": "ipython3",
      "version": "3.8.6"
    },
    "deepnote_notebook_id": "cae34137-6825-4c44-8617-35ae5daa7ad4",
    "deepnote": {},
    "deepnote_execution_queue": []
  }
}